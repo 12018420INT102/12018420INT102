{
  "nbformat": 4,
  "nbformat_minor": 0,
  "metadata": {
    "colab": {
      "name": "int102 ca 1 .ipynb",
      "provenance": [],
      "authorship_tag": "ABX9TyMEVOoKqqegiRxHTUULp3c7",
      "include_colab_link": true
    },
    "kernelspec": {
      "name": "python3",
      "display_name": "Python 3"
    },
    "language_info": {
      "name": "python"
    }
  },
  "cells": [
    {
      "cell_type": "markdown",
      "metadata": {
        "id": "view-in-github",
        "colab_type": "text"
      },
      "source": [
        "<a href=\"https://colab.research.google.com/github/12018420INT102/12018420INT102/blob/main/int102_ca_1_.ipynb\" target=\"_parent\"><img src=\"https://colab.research.google.com/assets/colab-badge.svg\" alt=\"Open In Colab\"/></a>"
      ]
    },
    {
      "cell_type": "markdown",
      "metadata": {
        "id": "f0Hz4AuP5mh2"
      },
      "source": [
        "1 st solution "
      ]
    },
    {
      "cell_type": "code",
      "metadata": {
        "id": "jIRhOBgg7iKv"
      },
      "source": [
        "A= int(input('Enter Car Speed'))\n",
        "if (A<25):\n",
        "  print ('Gear 1')\n",
        "elif (A>=25) and (A<40):\n",
        "  print ('Gear 2')\n",
        "elif (A>=40) and (A<60):\n",
        "  print ('Gear 3')\n",
        "elif (A>= 60) and (A<80):\n",
        "  print ('Gear 4')\n",
        "elif (A>=80):\n",
        "  print ('Gear 5')\n",
        "  "
      ],
      "execution_count": null,
      "outputs": []
    },
    {
      "cell_type": "markdown",
      "metadata": {
        "id": "hsSGj_oP997z"
      },
      "source": [
        "2nd solution"
      ]
    },
    {
      "cell_type": "code",
      "metadata": {
        "id": "bSrj4nIQ9_5z"
      },
      "source": [
        "S = int (input ('Enter the Total attendence of student in percentage'))\n",
        "if (S>=90):\n",
        "  print ('Attendence on marks awarded to student:',5)\n",
        "elif (S>=80 or S<90 ):\n",
        "  print ('Attendence on marks awarded to student:',4)\n",
        "elif (S>=80 or S<85 ):\n",
        "  print ('Attendence on marks awarded to student:',3)\n",
        "elif (S<80):\n",
        "  print ('Attendence on marks awarded to student:',2)\n",
        "else :\n",
        "  print ('No Marks will be awarded for attendence')"
      ],
      "execution_count": null,
      "outputs": []
    },
    {
      "cell_type": "markdown",
      "metadata": {
        "id": "54LHZVqt-C3E"
      },
      "source": [
        "3rd solution\n"
      ]
    },
    {
      "cell_type": "code",
      "metadata": {
        "id": "5BqzaUfoA6Lb"
      },
      "source": [
        "N= input(\"Enter the name of the student\")\n",
        "D= input(\"enter the department\")\n",
        "print(\"NAME before print , N \")\n",
        "print(\"name after correction of thr case :\".N.upper())\n",
        "print (\"Department after correction.\"D.tittle())"
      ],
      "execution_count": null,
      "outputs": []
    },
    {
      "cell_type": "markdown",
      "metadata": {
        "id": "WOEU08Wn_w2U"
      },
      "source": [
        "4rt soultion\n"
      ]
    },
    {
      "cell_type": "code",
      "metadata": {
        "id": "_-dcts09_zvL"
      },
      "source": [
        "p= input(\"Enter the password to access\")\n",
        "if (p=='XYZ@1234')\n",
        " print(\"Access Granted\")\n",
        " else: print (\"please try again\")"
      ],
      "execution_count": null,
      "outputs": []
    },
    {
      "cell_type": "markdown",
      "metadata": {
        "id": "4GYAuhyjA1wk"
      },
      "source": [
        "5th solution"
      ]
    },
    {
      "cell_type": "code",
      "metadata": {
        "id": "pne2fywpA_TL"
      },
      "source": [
        "Z=input('Enter number')\n",
        "sum =0\n",
        "for i in Z: \n",
        "  sum = sum + (i)\n",
        "  print(the sum of each digit of registration number is )\n"
      ],
      "execution_count": null,
      "outputs": []
    },
    {
      "cell_type": "markdown",
      "metadata": {
        "id": "p5KLCiJ_CCAN"
      },
      "source": [
        "6 th solution "
      ]
    },
    {
      "cell_type": "code",
      "metadata": {
        "id": "tJzEKbIiD0jr"
      },
      "source": [
        "salary = int (input(\"Enter the salary \"))\n",
        " if ( salary >= 25000 and salary <=40000 ):\n",
        "   print(\" Designaton\",\"Manager\")\n",
        " elif ( salary >=1500 and salary<25000):\n",
        "   print(\"Designation\",\"Accountant\"):\n",
        "  else :\n",
        "    print(\"Designation\",\"Clerk\")"
      ],
      "execution_count": null,
      "outputs": []
    }
  ]
}